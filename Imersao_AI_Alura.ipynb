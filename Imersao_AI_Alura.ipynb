{
  "nbformat": 4,
  "nbformat_minor": 0,
  "metadata": {
    "colab": {
      "provenance": [],
      "authorship_tag": "ABX9TyPzLMkAAIpKptybESciCe9t",
      "include_colab_link": true
    },
    "kernelspec": {
      "name": "python3",
      "display_name": "Python 3"
    },
    "language_info": {
      "name": "python"
    }
  },
  "cells": [
    {
      "cell_type": "markdown",
      "metadata": {
        "id": "view-in-github",
        "colab_type": "text"
      },
      "source": [
        "<a href=\"https://colab.research.google.com/github/sidneimathiesen/desafio_imersao_alura/blob/main/Imersao_AI_Alura.ipynb\" target=\"_parent\"><img src=\"https://colab.research.google.com/assets/colab-badge.svg\" alt=\"Open In Colab\"/></a>"
      ]
    },
    {
      "cell_type": "markdown",
      "source": [
        "Instalando o SDK do Google"
      ],
      "metadata": {
        "id": "paYndPy3IOHl"
      }
    },
    {
      "cell_type": "code",
      "execution_count": 3,
      "metadata": {
        "id": "eBCkeEC1HhlE"
      },
      "outputs": [],
      "source": [
        "!pip install -q -U google-generativeai"
      ]
    },
    {
      "cell_type": "code",
      "source": [
        "# Import the Python SDK\n",
        "import google.generativeai as genai\n",
        "# Used to securely store your API key\n",
        "from google.colab import userdata\n",
        "# Importar a chave de segurança do Google AI\n",
        "from google.colab import userdata\n",
        "\n",
        "GOOGLE_API_KEY= userdata.get('SECRET_KEY')\n",
        "genai.configure(api_key=GOOGLE_API_KEY)"
      ],
      "metadata": {
        "id": "GOeHT86rHntU"
      },
      "execution_count": 18,
      "outputs": []
    },
    {
      "cell_type": "markdown",
      "source": [
        "Visualizando os tipos de modelos disponiveis"
      ],
      "metadata": {
        "id": "gd51VHeAIwIf"
      }
    },
    {
      "cell_type": "code",
      "source": [
        "for m in genai.list_models():\n",
        "  if 'generateContent' in m.supported_generation_methods:\n",
        "    print(m.name)"
      ],
      "metadata": {
        "colab": {
          "base_uri": "https://localhost:8080/",
          "height": 139
        },
        "id": "Qy5RjT-bIl-e",
        "outputId": "5836d6a8-82ee-400f-d79f-13d2758d9d31"
      },
      "execution_count": 19,
      "outputs": [
        {
          "output_type": "stream",
          "name": "stdout",
          "text": [
            "models/gemini-1.0-pro\n",
            "models/gemini-1.0-pro-001\n",
            "models/gemini-1.0-pro-latest\n",
            "models/gemini-1.0-pro-vision-latest\n",
            "models/gemini-1.5-pro-latest\n",
            "models/gemini-pro\n",
            "models/gemini-pro-vision\n"
          ]
        }
      ]
    },
    {
      "cell_type": "code",
      "source": [
        "generation_config = {\n",
        "    \"candidate_count\": 1,\n",
        "    \"temperature\": 0.5, # Aleatoridade do modelo\n",
        "}"
      ],
      "metadata": {
        "id": "h_Dqx7gJKxLW"
      },
      "execution_count": 20,
      "outputs": []
    },
    {
      "cell_type": "code",
      "source": [
        "safety_settings = {\n",
        "    \"HARASSMENT\": \"BLOCK_NONE\",\n",
        "    \"HATE\": \"BLOCK_NONE\",\n",
        "    \"SEXUAL\": \"BLOCK_NONE\",\n",
        "    \"DANGEROUS\": \"BLOCK_NONE\",\n",
        "}"
      ],
      "metadata": {
        "id": "kLHWMHUHLdXg"
      },
      "execution_count": 21,
      "outputs": []
    },
    {
      "cell_type": "markdown",
      "source": [
        "Inicializando o modelo"
      ],
      "metadata": {
        "id": "Si3UPXh7McIG"
      }
    },
    {
      "cell_type": "code",
      "source": [
        "model = genai.GenerativeModel(model_name=\"gemini-1.0-pro\", generation_config = generation_config, safety_settings=safety_settings)"
      ],
      "metadata": {
        "id": "PRsdNDzLMVTr"
      },
      "execution_count": 22,
      "outputs": []
    },
    {
      "cell_type": "code",
      "source": [
        "response = model.generate_content(\"Escreva a historia curta sobre o Clube Vasco da Gama\")\n",
        "print(response.text)"
      ],
      "metadata": {
        "colab": {
          "base_uri": "https://localhost:8080/",
          "height": 263
        },
        "id": "LyhduiNdNOkL",
        "outputId": "d931b3c9-e226-42c3-81c1-beeff042b0f1"
      },
      "execution_count": 11,
      "outputs": [
        {
          "output_type": "stream",
          "name": "stdout",
          "text": [
            "Nas margens da Baía de Guanabara, no coração do Rio de Janeiro, surgiu em 1898 um clube que viria a se tornar um símbolo de paixão e tradição no futebol brasileiro: o Club de Regatas Vasco da Gama.\n",
            "\n",
            "Fundado por um grupo de imigrantes portugueses, o Vasco rapidamente ganhou popularidade entre a comunidade local. O nome do clube homenageava o navegador português Vasco da Gama, que havia descoberto o caminho marítimo para a Índia.\n",
            "\n",
            "Inicialmente, o clube focava em esportes náuticos, mas em 1915, uma equipe de futebol foi formada. O time rapidamente se destacou por seu estilo de jogo ofensivo e habilidoso, conquistando o Campeonato Carioca em 1923.\n",
            "\n",
            "Nos anos seguintes, o Vasco se tornou uma potência no futebol brasileiro. Liderado por lendas como Ademir Menezes, Bellini e Roberto Dinamite, o clube conquistou quatro Campeonatos Brasileiros (1974, 1989, 1997 e 2000), duas Copas Libertadores da América (1998 e 2011) e uma Copa Sul-Americana (2001).\n",
            "\n",
            "Além de seus sucessos no futebol, o Vasco também se destacou em outros esportes, como basquete, vôlei e natação. O clube possui uma das maiores e mais apaixonadas torcidas do país, conhecida como \"Torcida Uniformizada do Vasco\" (TUF).\n",
            "\n",
            "Ao longo dos anos, o Vasco da Gama enfrentou desafios e triunfos. O clube passou por períodos de crise financeira, mas sempre conseguiu se reerguer graças ao apoio de seus torcedores.\n",
            "\n",
            "Hoje, o Vasco da Gama é um dos clubes mais tradicionais e respeitados do futebol brasileiro. Sua história é marcada por conquistas, paixão e um espírito de luta que inspira gerações de torcedores.\n"
          ]
        }
      ]
    },
    {
      "cell_type": "code",
      "source": [
        "chat = model.start_chat(history=[])"
      ],
      "metadata": {
        "id": "BuoTopk-N32Q"
      },
      "execution_count": 23,
      "outputs": []
    },
    {
      "cell_type": "code",
      "source": [
        "pergunta = input(\"Digite sua pergunta: \")\n",
        "\n",
        "while pergunta != 'fim':\n",
        "  resposta = chat.send_message(pergunta)\n",
        "  print(f\"Resposta: {resposta.text}\\n\")\n",
        "  pergunta = input(\"Digite sua pergunta: \")"
      ],
      "metadata": {
        "colab": {
          "base_uri": "https://localhost:8080/",
          "height": 86
        },
        "id": "TnT0MVOEOFy-",
        "outputId": "84b6b047-407c-4f17-8067-72cb355f573d"
      },
      "execution_count": 24,
      "outputs": [
        {
          "name": "stdout",
          "output_type": "stream",
          "text": [
            "Digite sua pergunta: me diga algo\n",
            "Resposta: A vida é uma jornada, não um destino. Aproveite o caminho.\n",
            "\n",
            "Digite sua pergunta: fim\n"
          ]
        }
      ]
    },
    {
      "cell_type": "code",
      "source": [
        "chat.history"
      ],
      "metadata": {
        "colab": {
          "base_uri": "https://localhost:8080/"
        },
        "id": "ge_6zLsqQZOl",
        "outputId": "ed46d915-48c1-44df-d3fe-2c209699fc62"
      },
      "execution_count": 11,
      "outputs": [
        {
          "output_type": "execute_result",
          "data": {
            "text/plain": [
              "[parts {\n",
              "   text: \"Qual \\303\\251 a capital do canada ?\"\n",
              " }\n",
              " role: \"user\",\n",
              " parts {\n",
              "   text: \"Ottawa\"\n",
              " }\n",
              " role: \"model\",\n",
              " parts {\n",
              "   text: \"Qual \\303\\251 comida mais vendida neste pais ?\"\n",
              " }\n",
              " role: \"user\",\n",
              " parts {\n",
              "   text: \"Poutine\"\n",
              " }\n",
              " role: \"model\",\n",
              " parts {\n",
              "   text: \"Qual \\303\\251 a comida mais famosa deste pais ?\"\n",
              " }\n",
              " role: \"user\",\n",
              " parts {\n",
              "   text: \"Poutine\"\n",
              " }\n",
              " role: \"model\",\n",
              " parts {\n",
              "   text: \"Me diga um ponto tur\\303\\255stico desta cidade\"\n",
              " }\n",
              " role: \"user\",\n",
              " parts {\n",
              "   text: \"Parlamento do Canad\\303\\241\"\n",
              " }\n",
              " role: \"model\"]"
            ]
          },
          "metadata": {},
          "execution_count": 11
        }
      ]
    },
    {
      "cell_type": "code",
      "source": [
        "import textwrap\n",
        "from IPython.display import display, Markdown\n",
        "\n",
        "def to_markdown(text):\n",
        "  text = text.replace('*', ' *')\n",
        "  return Markdown(textwrap.indent(text, '> ', predicate=lambda _: True))\n",
        "\n",
        "for message in chat.history:\n",
        "  display(to_markdown(f\"**{message.parts[0].text}\"))\n",
        "  print('************************************************************')"
      ],
      "metadata": {
        "colab": {
          "base_uri": "https://localhost:8080/",
          "height": 519
        },
        "id": "rbIkyXdZbkPe",
        "outputId": "67b40132-b472-4611-b449-70096438bfa6"
      },
      "execution_count": 17,
      "outputs": [
        {
          "output_type": "display_data",
          "data": {
            "text/plain": [
              "<IPython.core.display.Markdown object>"
            ],
            "text/markdown": ">  * *Qual é a capital do canada ?"
          },
          "metadata": {}
        },
        {
          "output_type": "stream",
          "name": "stdout",
          "text": [
            "************************************************************\n"
          ]
        },
        {
          "output_type": "display_data",
          "data": {
            "text/plain": [
              "<IPython.core.display.Markdown object>"
            ],
            "text/markdown": ">  * *Ottawa"
          },
          "metadata": {}
        },
        {
          "output_type": "stream",
          "name": "stdout",
          "text": [
            "************************************************************\n"
          ]
        },
        {
          "output_type": "display_data",
          "data": {
            "text/plain": [
              "<IPython.core.display.Markdown object>"
            ],
            "text/markdown": ">  * *Qual é comida mais vendida neste pais ?"
          },
          "metadata": {}
        },
        {
          "output_type": "stream",
          "name": "stdout",
          "text": [
            "************************************************************\n"
          ]
        },
        {
          "output_type": "display_data",
          "data": {
            "text/plain": [
              "<IPython.core.display.Markdown object>"
            ],
            "text/markdown": ">  * *Poutine"
          },
          "metadata": {}
        },
        {
          "output_type": "stream",
          "name": "stdout",
          "text": [
            "************************************************************\n"
          ]
        },
        {
          "output_type": "display_data",
          "data": {
            "text/plain": [
              "<IPython.core.display.Markdown object>"
            ],
            "text/markdown": ">  * *Qual é a comida mais famosa deste pais ?"
          },
          "metadata": {}
        },
        {
          "output_type": "stream",
          "name": "stdout",
          "text": [
            "************************************************************\n"
          ]
        },
        {
          "output_type": "display_data",
          "data": {
            "text/plain": [
              "<IPython.core.display.Markdown object>"
            ],
            "text/markdown": ">  * *Poutine"
          },
          "metadata": {}
        },
        {
          "output_type": "stream",
          "name": "stdout",
          "text": [
            "************************************************************\n"
          ]
        },
        {
          "output_type": "display_data",
          "data": {
            "text/plain": [
              "<IPython.core.display.Markdown object>"
            ],
            "text/markdown": ">  * *Me diga um ponto turístico desta cidade"
          },
          "metadata": {}
        },
        {
          "output_type": "stream",
          "name": "stdout",
          "text": [
            "************************************************************\n"
          ]
        },
        {
          "output_type": "display_data",
          "data": {
            "text/plain": [
              "<IPython.core.display.Markdown object>"
            ],
            "text/markdown": ">  * *Parlamento do Canadá"
          },
          "metadata": {}
        },
        {
          "output_type": "stream",
          "name": "stdout",
          "text": [
            "************************************************************\n"
          ]
        }
      ]
    }
  ]
}